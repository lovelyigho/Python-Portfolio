{
  "nbformat": 4,
  "nbformat_minor": 0,
  "metadata": {
    "colab": {
      "provenance": []
    },
    "kernelspec": {
      "name": "python3",
      "display_name": "Python 3"
    },
    "language_info": {
      "name": "python"
    }
  },
  "cells": [
    {
      "cell_type": "markdown",
      "source": [
        "# Name: Gold Oviroro\n",
        "\n",
        "# AltSchool Learner ID: ALT/SOD/025/4866\n",
        "\n",
        "# Registered Email: Lovelyigho@gmail.com"
      ],
      "metadata": {
        "id": "fDhL0vrLmSng"
      }
    },
    {
      "cell_type": "markdown",
      "source": [
        "# Question 1\n",
        "\n",
        "Write a code that prompts a user requesting his/her e-mail and then extracts the user\n",
        "\n",
        "first name (Note that the e-mail is in firstname.lastname@gmail.com"
      ],
      "metadata": {
        "id": "PR9yvjpvoca4"
      }
    },
    {
      "cell_type": "code",
      "source": [
        "email = input(\"Please enter your email (format: firstname.lastname@gmail.com): \")\n",
        "name_part = email.split(\"@\")[0]\n",
        "first_name = name_part.split(\".\")[0]\n",
        "print(\"Your first name is:\", first_name.capitalize())"
      ],
      "metadata": {
        "colab": {
          "base_uri": "https://localhost:8080/"
        },
        "id": "9xMKD1hXvBwS",
        "outputId": "8aaed119-91da-43c4-a635-9e64ac18c902"
      },
      "execution_count": 7,
      "outputs": [
        {
          "output_type": "stream",
          "name": "stdout",
          "text": [
            "Please enter your email (format: firstname.lastname@gmail.com): lovely.igho@gmail.com\n",
            "Your first name is: Lovely\n"
          ]
        }
      ]
    },
    {
      "cell_type": "markdown",
      "source": [
        "# Question 2\n",
        "\n",
        "Write a code to remove the duplicates from the following list:\n",
        "\n",
        "my_list = [‘GOOG’, ‘APPL’, ‘T’,’TSLA’,’T’,’AAPL’, 5, 6,5]"
      ],
      "metadata": {
        "id": "MyRU2xWzw-VZ"
      }
    },
    {
      "cell_type": "code",
      "source": [
        "my_list = ['GOOG', 'APPL', 'T', 'TSLA', 'T', 'AAPL', 5, 6, 5]\n",
        "unique_list = list(set(my_list))\n",
        "print(unique_list)"
      ],
      "metadata": {
        "colab": {
          "base_uri": "https://localhost:8080/"
        },
        "id": "nfLtwIaXw2IS",
        "outputId": "785a9250-113a-466d-be3d-7ff5157a40c3"
      },
      "execution_count": 11,
      "outputs": [
        {
          "output_type": "stream",
          "name": "stdout",
          "text": [
            "['APPL', 'AAPL', 5, 6, 'GOOG', 'T', 'TSLA']\n"
          ]
        }
      ]
    },
    {
      "cell_type": "code",
      "source": [
        "my_list = ['GOOG', 'APPL', 'T', 'TSLA', 'T', 'AAPL', 5, 6, 5]\n",
        "unique_list = []\n",
        "for item in my_list:\n",
        "    if item not in unique_list:\n",
        "        unique_list.append(item)\n",
        "print(unique_list)"
      ],
      "metadata": {
        "colab": {
          "base_uri": "https://localhost:8080/"
        },
        "id": "2P6s9xm2zniG",
        "outputId": "6166d84b-fab1-474e-f987-ad94e57c5db7"
      },
      "execution_count": 12,
      "outputs": [
        {
          "output_type": "stream",
          "name": "stdout",
          "text": [
            "['GOOG', 'APPL', 'T', 'TSLA', 'AAPL', 5, 6]\n"
          ]
        }
      ]
    },
    {
      "cell_type": "markdown",
      "source": [
        "# Question 3\n",
        "\n",
        "Write a code that takes in the maximum and minimum limits from the user and prints out\n",
        "\n",
        "even numbers only between the provided range."
      ],
      "metadata": {
        "id": "PuIezEGOzybu"
      }
    },
    {
      "cell_type": "code",
      "source": [
        "min_limit = int(input(\"Enter the minimum number: \"))\n",
        "max_limit = int(input(\"Enter the maximum number: \"))\n",
        "print(f\"Even numbers between {min_limit} and {max_limit} are:\")\n",
        "for num in range(min_limit, max_limit + 1):\n",
        "    if num % 2 == 0:\n",
        "        print(num)\n"
      ],
      "metadata": {
        "colab": {
          "base_uri": "https://localhost:8080/"
        },
        "id": "54oEOYEN0OLn",
        "outputId": "52ad4d5b-d930-433c-c8d1-1834f528bbb8"
      },
      "execution_count": 2,
      "outputs": [
        {
          "output_type": "stream",
          "name": "stdout",
          "text": [
            "Enter the minimum number: 2\n",
            "Enter the maximum number: 40\n",
            "Even numbers between 2 and 40 are:\n",
            "2\n",
            "4\n",
            "6\n",
            "8\n",
            "10\n",
            "12\n",
            "14\n",
            "16\n",
            "18\n",
            "20\n",
            "22\n",
            "24\n",
            "26\n",
            "28\n",
            "30\n",
            "32\n",
            "34\n",
            "36\n",
            "38\n",
            "40\n"
          ]
        }
      ]
    },
    {
      "cell_type": "markdown",
      "source": [
        "# Question 4\n",
        "\n",
        "Write a code that generates the following table:\n",
        "\n",
        "1 1 1\n",
        "\n",
        "2 4 8\n",
        "\n",
        "3 9 27\n",
        "\n",
        "4 16 64\n",
        "\n",
        "5 25 125\n",
        "\n",
        "6 36 216\n",
        "\n",
        "7 49 343\n",
        "\n",
        "8 64 512\n",
        "\n",
        "9 81 729\n",
        "\n",
        "10 100 1000\n",
        "\n"
      ],
      "metadata": {
        "id": "EGkpyhu6id9m"
      }
    },
    {
      "cell_type": "code",
      "source": [
        "print(\"One  two  three\")\n",
        "print(\"_\")\n",
        "\n",
        "for num in range(1, 11):\n",
        "    two = num ** 2\n",
        "    three = num ** 3\n",
        "    print(f\"{num:<7} {two:<7} {three}\")\n"
      ],
      "metadata": {
        "colab": {
          "base_uri": "https://localhost:8080/"
        },
        "id": "EOLFCMT5h8eI",
        "outputId": "92586ed3-48cf-4db9-ee3c-459f58e8682e"
      },
      "execution_count": 8,
      "outputs": [
        {
          "output_type": "stream",
          "name": "stdout",
          "text": [
            "One  two  three\n",
            "_\n",
            "1       1       1\n",
            "2       4       8\n",
            "3       9       27\n",
            "4       16      64\n",
            "5       25      125\n",
            "6       36      216\n",
            "7       49      343\n",
            "8       64      512\n",
            "9       81      729\n",
            "10      100     1000\n"
          ]
        }
      ]
    },
    {
      "cell_type": "markdown",
      "source": [
        "# Question 5\n",
        "\n",
        "Write a code that displays numbers from 1 to 30 (including 30) using for and while loops"
      ],
      "metadata": {
        "id": "NRudbm3HjZFa"
      }
    },
    {
      "cell_type": "code",
      "source": [
        "# For loop\n",
        "print(\"Numbers from 1 to 30 using for loop:\")\n",
        "\n",
        "for num in range(1, 31):\n",
        "    print(num)\n"
      ],
      "metadata": {
        "colab": {
          "base_uri": "https://localhost:8080/"
        },
        "id": "Zp7o3-Q_jzqx",
        "outputId": "8d716761-eb4c-4488-adc3-a6452cd4b061"
      },
      "execution_count": 9,
      "outputs": [
        {
          "output_type": "stream",
          "name": "stdout",
          "text": [
            "Numbers from 1 to 30 using for loop:\n",
            "1\n",
            "2\n",
            "3\n",
            "4\n",
            "5\n",
            "6\n",
            "7\n",
            "8\n",
            "9\n",
            "10\n",
            "11\n",
            "12\n",
            "13\n",
            "14\n",
            "15\n",
            "16\n",
            "17\n",
            "18\n",
            "19\n",
            "20\n",
            "21\n",
            "22\n",
            "23\n",
            "24\n",
            "25\n",
            "26\n",
            "27\n",
            "28\n",
            "29\n",
            "30\n"
          ]
        }
      ]
    },
    {
      "cell_type": "code",
      "source": [
        "# While loop\n",
        "print(\"\\nNumbers from 1 to 30 using while loop:\")\n",
        "\n",
        "num = 1\n",
        "while num <= 30:\n",
        "    print(num)\n",
        "    num += 1\n"
      ],
      "metadata": {
        "colab": {
          "base_uri": "https://localhost:8080/"
        },
        "id": "ZQVRSMtLj80-",
        "outputId": "7fa52c02-17ae-4c10-92f7-eb1bc1ed4b34"
      },
      "execution_count": 10,
      "outputs": [
        {
          "output_type": "stream",
          "name": "stdout",
          "text": [
            "\n",
            "Numbers from 1 to 30 using while loop:\n",
            "1\n",
            "2\n",
            "3\n",
            "4\n",
            "5\n",
            "6\n",
            "7\n",
            "8\n",
            "9\n",
            "10\n",
            "11\n",
            "12\n",
            "13\n",
            "14\n",
            "15\n",
            "16\n",
            "17\n",
            "18\n",
            "19\n",
            "20\n",
            "21\n",
            "22\n",
            "23\n",
            "24\n",
            "25\n",
            "26\n",
            "27\n",
            "28\n",
            "29\n",
            "30\n"
          ]
        }
      ]
    },
    {
      "cell_type": "markdown",
      "source": [
        "# Question 6\n",
        "\n",
        " Create a rolling dice game that assume we have two dice (#1 and #2). The dice is being  thrown and a random number is generated everytime. The game should be designed such that it prompts the user to ask if he/she would like to keep playing or exit the game.\n",
        "\n",
        " Hint (import random, and use random.randint to generate random numbers)"
      ],
      "metadata": {
        "id": "15mPzIahkLxH"
      }
    },
    {
      "cell_type": "code",
      "source": [
        "import random\n",
        "print(\"Welcome to the Rolling Dice Game!\")\n",
        "\n",
        "while True:\n",
        "    dice1 = random.randint(1, 6)\n",
        "    dice2 = random.randint(1, 6)\n",
        "\n",
        "    print(f\"\\nYou rolled: Dice #1 = {dice1}, Dice #2 = {dice2}\")\n",
        "    print(f\"Total = {dice1 + dice2}\")\n",
        "\n",
        "    choice = input(\"Do you want to roll again? (yes/no): \").lower()\n",
        "\n",
        "    if choice == \"no\":\n",
        "        print(\"\\nThanks for playing! Goodbye\")\n",
        "        break\n"
      ],
      "metadata": {
        "colab": {
          "base_uri": "https://localhost:8080/"
        },
        "id": "EuxfNmotyce1",
        "outputId": "fef7e12e-39a8-441b-ca37-216c2ae51d93"
      },
      "execution_count": 28,
      "outputs": [
        {
          "output_type": "stream",
          "name": "stdout",
          "text": [
            "Welcome to the Rolling Dice Game!\n",
            "\n",
            "You rolled: Dice #1 = 6, Dice #2 = 4\n",
            "Total = 10\n",
            "Do you want to roll again? (yes/no): No\n",
            "\n",
            "Thanks for playing! Goodbye\n"
          ]
        }
      ]
    },
    {
      "cell_type": "markdown",
      "source": [
        "# Question 7\n",
        "\n",
        "Write a code that continuously gets data from the user and calculates the average and\n",
        "\n",
        "print out on the screen. The code exits when the user enters ‘e’."
      ],
      "metadata": {
        "id": "sSWAvfXhkcey"
      }
    },
    {
      "cell_type": "markdown",
      "source": [
        "# Question 8\n",
        "\n",
        "Write a code that takes in a number (range between 1 and 9) from the user and print out\n",
        "\n",
        "the multiplication table up until that number."
      ],
      "metadata": {
        "id": "NqEcQEUhlUk0"
      }
    },
    {
      "cell_type": "code",
      "source": [
        "num = int(input(\"Enter a number between 1 and 9: \"))\n",
        "\n",
        "if 1 <= num <= 9:\n",
        "    print(f\"\\nMultiplication table up to {num}:\\n\")\n",
        "    for i in range(1, num + 1):\n",
        "        for j in range(1, num + 1):\n",
        "            print(f\"{i} x {j} = {i*j}\")\n",
        "        print()\n",
        "else:\n",
        "    print(\"❌ Please enter a number between 1 and 9.\")\n"
      ],
      "metadata": {
        "colab": {
          "base_uri": "https://localhost:8080/"
        },
        "id": "vTuZ-C5Okt6L",
        "outputId": "ad0bc0c0-96d5-40b5-eeb3-0eb301909a13"
      },
      "execution_count": 11,
      "outputs": [
        {
          "output_type": "stream",
          "name": "stdout",
          "text": [
            "Enter a number between 1 and 9: 5\n",
            "\n",
            "Multiplication table up to 5:\n",
            "\n",
            "1 x 1 = 1\n",
            "1 x 2 = 2\n",
            "1 x 3 = 3\n",
            "1 x 4 = 4\n",
            "1 x 5 = 5\n",
            "\n",
            "2 x 1 = 2\n",
            "2 x 2 = 4\n",
            "2 x 3 = 6\n",
            "2 x 4 = 8\n",
            "2 x 5 = 10\n",
            "\n",
            "3 x 1 = 3\n",
            "3 x 2 = 6\n",
            "3 x 3 = 9\n",
            "3 x 4 = 12\n",
            "3 x 5 = 15\n",
            "\n",
            "4 x 1 = 4\n",
            "4 x 2 = 8\n",
            "4 x 3 = 12\n",
            "4 x 4 = 16\n",
            "4 x 5 = 20\n",
            "\n",
            "5 x 1 = 5\n",
            "5 x 2 = 10\n",
            "5 x 3 = 15\n",
            "5 x 4 = 20\n",
            "5 x 5 = 25\n",
            "\n"
          ]
        }
      ]
    },
    {
      "cell_type": "markdown",
      "source": [
        "# Question 9\n",
        "\n",
        "Write a code that takes in two inputs (number of units and prices) from the user and\n",
        "\n",
        "calculate the total account balance"
      ],
      "metadata": {
        "id": "U4nq7_hxluHi"
      }
    },
    {
      "cell_type": "code",
      "source": [
        "units = int(input(\"Enter the number of units: \"))\n",
        "price = float(input(\"Enter the price per unit: \"))\n",
        "\n",
        "total_balance = units * price\n",
        "\n",
        "print(f\"\\nYour total account balance is: {total_balance:.2f}\")\n"
      ],
      "metadata": {
        "colab": {
          "base_uri": "https://localhost:8080/"
        },
        "id": "galRdypSmoDG",
        "outputId": "e03a27ae-f0d0-4f4c-d2cd-d1c8062cdee7"
      },
      "execution_count": 12,
      "outputs": [
        {
          "output_type": "stream",
          "name": "stdout",
          "text": [
            "Enter the number of units: 50\n",
            "Enter the price per unit: 1000\n",
            "\n",
            "Your total account balance is: 50000.00\n"
          ]
        }
      ]
    },
    {
      "cell_type": "markdown",
      "source": [
        "# Question 10\n",
        "\n",
        "Write a function that takes an argument and return its cubic value\n",
        "\n",
        "*- Define a list of integers ranging from -10 to 10\n",
        "\n",
        "*- Apply the function to the entire list and generate a new output list"
      ],
      "metadata": {
        "id": "vD-dDUqQl26A"
      }
    },
    {
      "cell_type": "code",
      "source": [
        "def cubic(n):\n",
        "    return n ** 3\n",
        "\n",
        "numbers = list(range(-10, 11))\n",
        "\n",
        "cubic_values = list(map(cubic, numbers))\n",
        "\n",
        "print(\"Original list:\", numbers)\n",
        "print(\"Cubic values :\", cubic_values)"
      ],
      "metadata": {
        "colab": {
          "base_uri": "https://localhost:8080/"
        },
        "id": "Eyy2VMNfnZZq",
        "outputId": "7d7e54b0-f2a2-482f-ca5a-3d7129570235"
      },
      "execution_count": 13,
      "outputs": [
        {
          "output_type": "stream",
          "name": "stdout",
          "text": [
            "Original list: [-10, -9, -8, -7, -6, -5, -4, -3, -2, -1, 0, 1, 2, 3, 4, 5, 6, 7, 8, 9, 10]\n",
            "Cubic values : [-1000, -729, -512, -343, -216, -125, -64, -27, -8, -1, 0, 1, 8, 27, 64, 125, 216, 343, 512, 729, 1000]\n"
          ]
        }
      ]
    },
    {
      "cell_type": "markdown",
      "source": [
        "# Question 11\n",
        "\n",
        "Write a code from the user that takes in a range (upper and lower bounds) and returns a\n",
        "\n",
        "list of positive and even numbers only"
      ],
      "metadata": {
        "id": "X5kEjJesl8pP"
      }
    },
    {
      "cell_type": "code",
      "source": [
        "lower = int(input(\"Enter the lower bound: \"))\n",
        "upper = int(input(\"Enter the upper bound: \"))\n",
        "\n",
        "# Find positive and even numbers in the range\n",
        "result = []\n",
        "\n",
        "for num in range(lower, upper + 1):\n",
        "    if num > 0 and num % 2 == 0:\n",
        "        result.append(num)\n",
        "\n",
        "print(f\"\\nPositive even numbers between {lower} and {upper} are:\")\n",
        "print(result)\n"
      ],
      "metadata": {
        "colab": {
          "base_uri": "https://localhost:8080/"
        },
        "id": "Z5N36ZH1tvXC",
        "outputId": "8338085a-f73e-4472-d459-94746aa66fbf"
      },
      "execution_count": 14,
      "outputs": [
        {
          "output_type": "stream",
          "name": "stdout",
          "text": [
            "Enter the lower bound: -10\n",
            "Enter the upper bound: 20\n",
            "\n",
            "Positive even numbers between -10 and 20 are:\n",
            "[2, 4, 6, 8, 10, 12, 14, 16, 18, 20]\n"
          ]
        }
      ]
    },
    {
      "cell_type": "markdown",
      "source": [
        "# Question 12\n",
        "\n",
        "Write a code that takes in 2 lists x = [-1 -4 -7] and y = [-3 7 4] and calculates the absolute\n",
        "\n",
        "sum of all its elements |x+y|"
      ],
      "metadata": {
        "id": "ggYdsNwkmDU8"
      }
    },
    {
      "cell_type": "code",
      "source": [
        "x = [-1, -4, -7]\n",
        "y = [-3, 7, 4]"
      ],
      "metadata": {
        "id": "KDAd-uySuXG-"
      },
      "execution_count": 15,
      "outputs": []
    },
    {
      "cell_type": "code",
      "source": [
        "z = [a + b for a, b in zip(x, y)]\n",
        "\n",
        "abs_sum = sum(abs(val) for val in z)\n",
        "\n",
        "print(\"Element-wise sum:\", z)\n",
        "print(\"Absolute sum |x+y|:\", abs_sum)"
      ],
      "metadata": {
        "colab": {
          "base_uri": "https://localhost:8080/"
        },
        "id": "ogJoXWlguYmO",
        "outputId": "87b938b7-a640-4005-b2a2-ca4f75babd79"
      },
      "execution_count": 16,
      "outputs": [
        {
          "output_type": "stream",
          "name": "stdout",
          "text": [
            "Element-wise sum: [-4, 3, -3]\n",
            "Absolute sum |x+y|: 10\n"
          ]
        }
      ]
    },
    {
      "cell_type": "markdown",
      "source": [
        "# Question 13\n",
        "\n",
        "Write a code that takes a number from the user and indicates if it’s positive or negative\n",
        "\n",
        "or zero"
      ],
      "metadata": {
        "id": "53GhM3hnmHmh"
      }
    },
    {
      "cell_type": "code",
      "source": [
        "num = float(input(\"Enter a number: \"))\n",
        "if num > 0:\n",
        "    print(\"The number is positive.\")\n",
        "elif num < 0:\n",
        "    print(\"The number is negative.\")\n",
        "else:\n",
        "    print(\"The number is zero.\")"
      ],
      "metadata": {
        "colab": {
          "base_uri": "https://localhost:8080/"
        },
        "id": "kKrLcpbOuw9T",
        "outputId": "b807d48b-ac71-4ee3-cb41-8031acdcc92e"
      },
      "execution_count": 18,
      "outputs": [
        {
          "output_type": "stream",
          "name": "stdout",
          "text": [
            "Enter a number: 0.9\n",
            "The number is positive.\n"
          ]
        }
      ]
    },
    {
      "cell_type": "code",
      "source": [
        "num = float(input(\"Enter a number: \"))\n",
        "if num > 0:\n",
        "    print(\"The number is positive.\")\n",
        "elif num < 0:\n",
        "    print(\"The number is negative.\")\n",
        "else:\n",
        "    print(\"The number is zero.\")"
      ],
      "metadata": {
        "colab": {
          "base_uri": "https://localhost:8080/"
        },
        "id": "OPNfiYK1vQ-8",
        "outputId": "74766904-1261-4b01-c278-e58d8daf1bdc"
      },
      "execution_count": 19,
      "outputs": [
        {
          "output_type": "stream",
          "name": "stdout",
          "text": [
            "Enter a number: -2.3\n",
            "The number is negative.\n"
          ]
        }
      ]
    },
    {
      "cell_type": "code",
      "source": [
        "num = float(input(\"Enter a number: \"))\n",
        "if num > 0:\n",
        "    print(\"The number is positive.\")\n",
        "elif num < 0:\n",
        "    print(\"The number is negative.\")\n",
        "else:\n",
        "    print(\"The number is zero.\")"
      ],
      "metadata": {
        "colab": {
          "base_uri": "https://localhost:8080/"
        },
        "id": "EeKF1IKuvW6G",
        "outputId": "5574398f-948c-4d40-8a71-c1503794e2d3"
      },
      "execution_count": 20,
      "outputs": [
        {
          "output_type": "stream",
          "name": "stdout",
          "text": [
            "Enter a number: 0\n",
            "The number is zero.\n"
          ]
        }
      ]
    },
    {
      "cell_type": "markdown",
      "source": [
        "# Question 14\n",
        "\n",
        "Write a code that takes a number from the user and checks if the number is divisible by\n",
        "\n",
        "3 but is not a multiple of 7"
      ],
      "metadata": {
        "id": "P0o_K2EBmLoG"
      }
    },
    {
      "cell_type": "code",
      "source": [
        "num = int(input(\"Enter a number: \"))\n",
        "if num % 3 == 0 and num % 7 != 0:\n",
        "    print(f\"{num} is divisible by 3 but not a multiple of 7.\")\n",
        "else:\n",
        "    print(f\"{num} does not meet the condition.\")"
      ],
      "metadata": {
        "colab": {
          "base_uri": "https://localhost:8080/"
        },
        "id": "mA5NHrpkvhht",
        "outputId": "67e82a87-123f-4372-9aa1-f21df6353892"
      },
      "execution_count": 23,
      "outputs": [
        {
          "output_type": "stream",
          "name": "stdout",
          "text": [
            "Enter a number: 120\n",
            "120 is divisible by 3 but not a multiple of 7.\n"
          ]
        }
      ]
    },
    {
      "cell_type": "markdown",
      "source": [
        "# Question 15\n",
        "\n",
        "Write a code that takes a number from the user and indicate if the number is even or odd"
      ],
      "metadata": {
        "id": "YD16NdkpmPsI"
      }
    },
    {
      "cell_type": "code",
      "source": [
        "# Using the modulo operator\n",
        "num = int(input(\"Enter a number: \"))\n",
        "if num % 2 == 0:\n",
        "    print(f\"{num} is an even number.\")\n",
        "else:\n",
        "    print(f\"{num} is an odd number.\")"
      ],
      "metadata": {
        "colab": {
          "base_uri": "https://localhost:8080/"
        },
        "id": "mVPLGNeJmV7w",
        "outputId": "5bcdbd40-4e39-4cc9-f8a0-a57b173bd19f"
      },
      "execution_count": 26,
      "outputs": [
        {
          "output_type": "stream",
          "name": "stdout",
          "text": [
            "Enter a number: 52\n",
            "52 is an even number.\n"
          ]
        }
      ]
    }
  ]
}